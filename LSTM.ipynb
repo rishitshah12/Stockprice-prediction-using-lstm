{
 "cells": [
  {
   "cell_type": "code",
   "execution_count": 3,
   "metadata": {},
   "outputs": [
    {
     "data": {
      "text/html": [
       "<div>\n",
       "<style scoped>\n",
       "    .dataframe tbody tr th:only-of-type {\n",
       "        vertical-align: middle;\n",
       "    }\n",
       "\n",
       "    .dataframe tbody tr th {\n",
       "        vertical-align: top;\n",
       "    }\n",
       "\n",
       "    .dataframe thead th {\n",
       "        text-align: right;\n",
       "    }\n",
       "</style>\n",
       "<table border=\"1\" class=\"dataframe\">\n",
       "  <thead>\n",
       "    <tr style=\"text-align: right;\">\n",
       "      <th></th>\n",
       "      <th>Date</th>\n",
       "      <th>Open</th>\n",
       "      <th>High</th>\n",
       "      <th>Low</th>\n",
       "      <th>Last</th>\n",
       "      <th>Close</th>\n",
       "      <th>Total Trade Quantity</th>\n",
       "      <th>Turnover (Lacs)</th>\n",
       "    </tr>\n",
       "  </thead>\n",
       "  <tbody>\n",
       "    <tr>\n",
       "      <th>0</th>\n",
       "      <td>2018-10-08</td>\n",
       "      <td>208.00</td>\n",
       "      <td>222.25</td>\n",
       "      <td>206.85</td>\n",
       "      <td>216.00</td>\n",
       "      <td>215.15</td>\n",
       "      <td>4642146.0</td>\n",
       "      <td>10062.83</td>\n",
       "    </tr>\n",
       "    <tr>\n",
       "      <th>1</th>\n",
       "      <td>2018-10-05</td>\n",
       "      <td>217.00</td>\n",
       "      <td>218.60</td>\n",
       "      <td>205.90</td>\n",
       "      <td>210.25</td>\n",
       "      <td>209.20</td>\n",
       "      <td>3519515.0</td>\n",
       "      <td>7407.06</td>\n",
       "    </tr>\n",
       "    <tr>\n",
       "      <th>2</th>\n",
       "      <td>2018-10-04</td>\n",
       "      <td>223.50</td>\n",
       "      <td>227.80</td>\n",
       "      <td>216.15</td>\n",
       "      <td>217.25</td>\n",
       "      <td>218.20</td>\n",
       "      <td>1728786.0</td>\n",
       "      <td>3815.79</td>\n",
       "    </tr>\n",
       "    <tr>\n",
       "      <th>3</th>\n",
       "      <td>2018-10-03</td>\n",
       "      <td>230.00</td>\n",
       "      <td>237.50</td>\n",
       "      <td>225.75</td>\n",
       "      <td>226.45</td>\n",
       "      <td>227.60</td>\n",
       "      <td>1708590.0</td>\n",
       "      <td>3960.27</td>\n",
       "    </tr>\n",
       "    <tr>\n",
       "      <th>4</th>\n",
       "      <td>2018-10-01</td>\n",
       "      <td>234.55</td>\n",
       "      <td>234.60</td>\n",
       "      <td>221.05</td>\n",
       "      <td>230.30</td>\n",
       "      <td>230.90</td>\n",
       "      <td>1534749.0</td>\n",
       "      <td>3486.05</td>\n",
       "    </tr>\n",
       "    <tr>\n",
       "      <th>...</th>\n",
       "      <td>...</td>\n",
       "      <td>...</td>\n",
       "      <td>...</td>\n",
       "      <td>...</td>\n",
       "      <td>...</td>\n",
       "      <td>...</td>\n",
       "      <td>...</td>\n",
       "      <td>...</td>\n",
       "    </tr>\n",
       "    <tr>\n",
       "      <th>1230</th>\n",
       "      <td>2013-10-14</td>\n",
       "      <td>160.85</td>\n",
       "      <td>161.45</td>\n",
       "      <td>157.70</td>\n",
       "      <td>159.30</td>\n",
       "      <td>159.45</td>\n",
       "      <td>1281419.0</td>\n",
       "      <td>2039.09</td>\n",
       "    </tr>\n",
       "    <tr>\n",
       "      <th>1231</th>\n",
       "      <td>2013-10-11</td>\n",
       "      <td>161.15</td>\n",
       "      <td>163.45</td>\n",
       "      <td>159.00</td>\n",
       "      <td>159.80</td>\n",
       "      <td>160.05</td>\n",
       "      <td>1880046.0</td>\n",
       "      <td>3030.76</td>\n",
       "    </tr>\n",
       "    <tr>\n",
       "      <th>1232</th>\n",
       "      <td>2013-10-10</td>\n",
       "      <td>156.00</td>\n",
       "      <td>160.80</td>\n",
       "      <td>155.85</td>\n",
       "      <td>160.30</td>\n",
       "      <td>160.15</td>\n",
       "      <td>3124853.0</td>\n",
       "      <td>4978.80</td>\n",
       "    </tr>\n",
       "    <tr>\n",
       "      <th>1233</th>\n",
       "      <td>2013-10-09</td>\n",
       "      <td>155.70</td>\n",
       "      <td>158.20</td>\n",
       "      <td>154.15</td>\n",
       "      <td>155.30</td>\n",
       "      <td>155.55</td>\n",
       "      <td>2049580.0</td>\n",
       "      <td>3204.49</td>\n",
       "    </tr>\n",
       "    <tr>\n",
       "      <th>1234</th>\n",
       "      <td>2013-10-08</td>\n",
       "      <td>157.00</td>\n",
       "      <td>157.80</td>\n",
       "      <td>155.20</td>\n",
       "      <td>155.80</td>\n",
       "      <td>155.80</td>\n",
       "      <td>1720413.0</td>\n",
       "      <td>2688.94</td>\n",
       "    </tr>\n",
       "  </tbody>\n",
       "</table>\n",
       "<p>1235 rows × 8 columns</p>\n",
       "</div>"
      ],
      "text/plain": [
       "            Date    Open    High     Low    Last   Close  \\\n",
       "0     2018-10-08  208.00  222.25  206.85  216.00  215.15   \n",
       "1     2018-10-05  217.00  218.60  205.90  210.25  209.20   \n",
       "2     2018-10-04  223.50  227.80  216.15  217.25  218.20   \n",
       "3     2018-10-03  230.00  237.50  225.75  226.45  227.60   \n",
       "4     2018-10-01  234.55  234.60  221.05  230.30  230.90   \n",
       "...          ...     ...     ...     ...     ...     ...   \n",
       "1230  2013-10-14  160.85  161.45  157.70  159.30  159.45   \n",
       "1231  2013-10-11  161.15  163.45  159.00  159.80  160.05   \n",
       "1232  2013-10-10  156.00  160.80  155.85  160.30  160.15   \n",
       "1233  2013-10-09  155.70  158.20  154.15  155.30  155.55   \n",
       "1234  2013-10-08  157.00  157.80  155.20  155.80  155.80   \n",
       "\n",
       "      Total Trade Quantity  Turnover (Lacs)  \n",
       "0                4642146.0         10062.83  \n",
       "1                3519515.0          7407.06  \n",
       "2                1728786.0          3815.79  \n",
       "3                1708590.0          3960.27  \n",
       "4                1534749.0          3486.05  \n",
       "...                    ...              ...  \n",
       "1230             1281419.0          2039.09  \n",
       "1231             1880046.0          3030.76  \n",
       "1232             3124853.0          4978.80  \n",
       "1233             2049580.0          3204.49  \n",
       "1234             1720413.0          2688.94  \n",
       "\n",
       "[1235 rows x 8 columns]"
      ]
     },
     "execution_count": 3,
     "metadata": {},
     "output_type": "execute_result"
    }
   ],
   "source": [
    "import pandas as pd\n",
    "import numpy as np\n",
    "\n",
    "#to plot within notebook\n",
    "import matplotlib.pyplot as plt\n",
    "%matplotlib inline\n",
    "\n",
    "#setting figure size\n",
    "from matplotlib.pylab import rcParams\n",
    "rcParams['figure.figsize'] = 20,10\n",
    "\n",
    "#for normalizing data\n",
    "from sklearn.preprocessing import MinMaxScaler\n",
    "scaler = MinMaxScaler(feature_range=(0, 1))\n",
    "\n",
    "#read the file\n",
    "df = pd.read_csv('/home/vanshika/Downloads/stock.csv')\n",
    "#ds = pd.read_csv('/home/vanshika/Downloads/BAC.csv')\n",
    "#dd = pd.read_csv('/home/vanshika/Downloads/EBAY.csv')\n",
    "#print the head\n",
    "df"
   ]
  },
  {
   "cell_type": "code",
   "execution_count": 153,
   "metadata": {},
   "outputs": [
    {
     "data": {
      "text/html": [
       "<div>\n",
       "<style scoped>\n",
       "    .dataframe tbody tr th:only-of-type {\n",
       "        vertical-align: middle;\n",
       "    }\n",
       "\n",
       "    .dataframe tbody tr th {\n",
       "        vertical-align: top;\n",
       "    }\n",
       "\n",
       "    .dataframe thead th {\n",
       "        text-align: right;\n",
       "    }\n",
       "</style>\n",
       "<table border=\"1\" class=\"dataframe\">\n",
       "  <thead>\n",
       "    <tr style=\"text-align: right;\">\n",
       "      <th></th>\n",
       "      <th>Date</th>\n",
       "      <th>Open</th>\n",
       "      <th>High</th>\n",
       "      <th>Low</th>\n",
       "      <th>Close</th>\n",
       "      <th>Adj Close</th>\n",
       "      <th>Volume</th>\n",
       "    </tr>\n",
       "  </thead>\n",
       "  <tbody>\n",
       "    <tr>\n",
       "      <th>0</th>\n",
       "      <td>2017-12-20</td>\n",
       "      <td>29.76</td>\n",
       "      <td>29.840000</td>\n",
       "      <td>29.450001</td>\n",
       "      <td>29.480000</td>\n",
       "      <td>28.303865</td>\n",
       "      <td>81271200</td>\n",
       "    </tr>\n",
       "    <tr>\n",
       "      <th>1</th>\n",
       "      <td>2017-12-21</td>\n",
       "      <td>29.59</td>\n",
       "      <td>29.980000</td>\n",
       "      <td>29.580000</td>\n",
       "      <td>29.820000</td>\n",
       "      <td>28.630301</td>\n",
       "      <td>72953200</td>\n",
       "    </tr>\n",
       "    <tr>\n",
       "      <th>2</th>\n",
       "      <td>2017-12-22</td>\n",
       "      <td>29.98</td>\n",
       "      <td>30.030001</td>\n",
       "      <td>29.620001</td>\n",
       "      <td>29.879999</td>\n",
       "      <td>28.687906</td>\n",
       "      <td>54203000</td>\n",
       "    </tr>\n",
       "    <tr>\n",
       "      <th>3</th>\n",
       "      <td>2017-12-26</td>\n",
       "      <td>29.74</td>\n",
       "      <td>29.940001</td>\n",
       "      <td>29.580000</td>\n",
       "      <td>29.780001</td>\n",
       "      <td>28.591898</td>\n",
       "      <td>42371200</td>\n",
       "    </tr>\n",
       "    <tr>\n",
       "      <th>4</th>\n",
       "      <td>2017-12-27</td>\n",
       "      <td>29.66</td>\n",
       "      <td>29.730000</td>\n",
       "      <td>29.600000</td>\n",
       "      <td>29.730000</td>\n",
       "      <td>28.543890</td>\n",
       "      <td>35111800</td>\n",
       "    </tr>\n",
       "  </tbody>\n",
       "</table>\n",
       "</div>"
      ],
      "text/plain": [
       "         Date   Open       High        Low      Close  Adj Close    Volume\n",
       "0  2017-12-20  29.76  29.840000  29.450001  29.480000  28.303865  81271200\n",
       "1  2017-12-21  29.59  29.980000  29.580000  29.820000  28.630301  72953200\n",
       "2  2017-12-22  29.98  30.030001  29.620001  29.879999  28.687906  54203000\n",
       "3  2017-12-26  29.74  29.940001  29.580000  29.780001  28.591898  42371200\n",
       "4  2017-12-27  29.66  29.730000  29.600000  29.730000  28.543890  35111800"
      ]
     },
     "execution_count": 153,
     "metadata": {},
     "output_type": "execute_result"
    }
   ],
   "source": [
    "ds.head()"
   ]
  },
  {
   "cell_type": "code",
   "execution_count": 4,
   "metadata": {},
   "outputs": [
    {
     "name": "stderr",
     "output_type": "stream",
     "text": [
      "Using TensorFlow backend.\n",
      "/home/vanshika/MLAI/lib/python3.7/site-packages/tensorflow/python/framework/dtypes.py:516: FutureWarning: Passing (type, 1) or '1type' as a synonym of type is deprecated; in a future version of numpy, it will be understood as (type, (1,)) / '(1,)type'.\n",
      "  _np_qint8 = np.dtype([(\"qint8\", np.int8, 1)])\n",
      "/home/vanshika/MLAI/lib/python3.7/site-packages/tensorflow/python/framework/dtypes.py:517: FutureWarning: Passing (type, 1) or '1type' as a synonym of type is deprecated; in a future version of numpy, it will be understood as (type, (1,)) / '(1,)type'.\n",
      "  _np_quint8 = np.dtype([(\"quint8\", np.uint8, 1)])\n",
      "/home/vanshika/MLAI/lib/python3.7/site-packages/tensorflow/python/framework/dtypes.py:518: FutureWarning: Passing (type, 1) or '1type' as a synonym of type is deprecated; in a future version of numpy, it will be understood as (type, (1,)) / '(1,)type'.\n",
      "  _np_qint16 = np.dtype([(\"qint16\", np.int16, 1)])\n",
      "/home/vanshika/MLAI/lib/python3.7/site-packages/tensorflow/python/framework/dtypes.py:519: FutureWarning: Passing (type, 1) or '1type' as a synonym of type is deprecated; in a future version of numpy, it will be understood as (type, (1,)) / '(1,)type'.\n",
      "  _np_quint16 = np.dtype([(\"quint16\", np.uint16, 1)])\n",
      "/home/vanshika/MLAI/lib/python3.7/site-packages/tensorflow/python/framework/dtypes.py:520: FutureWarning: Passing (type, 1) or '1type' as a synonym of type is deprecated; in a future version of numpy, it will be understood as (type, (1,)) / '(1,)type'.\n",
      "  _np_qint32 = np.dtype([(\"qint32\", np.int32, 1)])\n",
      "/home/vanshika/MLAI/lib/python3.7/site-packages/tensorflow/python/framework/dtypes.py:525: FutureWarning: Passing (type, 1) or '1type' as a synonym of type is deprecated; in a future version of numpy, it will be understood as (type, (1,)) / '(1,)type'.\n",
      "  np_resource = np.dtype([(\"resource\", np.ubyte, 1)])\n",
      "/home/vanshika/MLAI/lib/python3.7/site-packages/tensorboard/compat/tensorflow_stub/dtypes.py:541: FutureWarning: Passing (type, 1) or '1type' as a synonym of type is deprecated; in a future version of numpy, it will be understood as (type, (1,)) / '(1,)type'.\n",
      "  _np_qint8 = np.dtype([(\"qint8\", np.int8, 1)])\n",
      "/home/vanshika/MLAI/lib/python3.7/site-packages/tensorboard/compat/tensorflow_stub/dtypes.py:542: FutureWarning: Passing (type, 1) or '1type' as a synonym of type is deprecated; in a future version of numpy, it will be understood as (type, (1,)) / '(1,)type'.\n",
      "  _np_quint8 = np.dtype([(\"quint8\", np.uint8, 1)])\n",
      "/home/vanshika/MLAI/lib/python3.7/site-packages/tensorboard/compat/tensorflow_stub/dtypes.py:543: FutureWarning: Passing (type, 1) or '1type' as a synonym of type is deprecated; in a future version of numpy, it will be understood as (type, (1,)) / '(1,)type'.\n",
      "  _np_qint16 = np.dtype([(\"qint16\", np.int16, 1)])\n",
      "/home/vanshika/MLAI/lib/python3.7/site-packages/tensorboard/compat/tensorflow_stub/dtypes.py:544: FutureWarning: Passing (type, 1) or '1type' as a synonym of type is deprecated; in a future version of numpy, it will be understood as (type, (1,)) / '(1,)type'.\n",
      "  _np_quint16 = np.dtype([(\"quint16\", np.uint16, 1)])\n",
      "/home/vanshika/MLAI/lib/python3.7/site-packages/tensorboard/compat/tensorflow_stub/dtypes.py:545: FutureWarning: Passing (type, 1) or '1type' as a synonym of type is deprecated; in a future version of numpy, it will be understood as (type, (1,)) / '(1,)type'.\n",
      "  _np_qint32 = np.dtype([(\"qint32\", np.int32, 1)])\n",
      "/home/vanshika/MLAI/lib/python3.7/site-packages/tensorboard/compat/tensorflow_stub/dtypes.py:550: FutureWarning: Passing (type, 1) or '1type' as a synonym of type is deprecated; in a future version of numpy, it will be understood as (type, (1,)) / '(1,)type'.\n",
      "  np_resource = np.dtype([(\"resource\", np.ubyte, 1)])\n"
     ]
    }
   ],
   "source": [
    "from sklearn.preprocessing import MinMaxScaler\n",
    "from keras.models import Sequential\n",
    "from keras.layers import Dense, Dropout, LSTM\n",
    "\n",
    "#creating dataframe\n",
    "data = df.sort_index(ascending=True, axis=0)\n",
    "new_data = pd.DataFrame(index=range(0,len(df)),columns=['Date', 'Close'])\n",
    "for i in range(0,len(data)):\n",
    "    new_data['Date'][i] = data['Date'][i]\n",
    "    new_data['Close'][i] = data['Close'][i]"
   ]
  },
  {
   "cell_type": "code",
   "execution_count": 5,
   "metadata": {},
   "outputs": [
    {
     "ename": "NameError",
     "evalue": "name 'dd' is not defined",
     "output_type": "error",
     "traceback": [
      "\u001b[0;31m---------------------------------------------------------------------------\u001b[0m",
      "\u001b[0;31mNameError\u001b[0m                                 Traceback (most recent call last)",
      "\u001b[0;32m<ipython-input-5-594e8c3745bf>\u001b[0m in \u001b[0;36m<module>\u001b[0;34m\u001b[0m\n\u001b[1;32m      1\u001b[0m \u001b[0;31m##############For prediction\u001b[0m\u001b[0;34m\u001b[0m\u001b[0;34m\u001b[0m\u001b[0;34m\u001b[0m\u001b[0m\n\u001b[0;32m----> 2\u001b[0;31m \u001b[0mndata\u001b[0m \u001b[0;34m=\u001b[0m \u001b[0mdd\u001b[0m\u001b[0;34m.\u001b[0m\u001b[0msort_index\u001b[0m\u001b[0;34m(\u001b[0m\u001b[0mascending\u001b[0m\u001b[0;34m=\u001b[0m\u001b[0;32mTrue\u001b[0m\u001b[0;34m,\u001b[0m \u001b[0maxis\u001b[0m\u001b[0;34m=\u001b[0m\u001b[0;36m0\u001b[0m\u001b[0;34m)\u001b[0m\u001b[0;34m\u001b[0m\u001b[0;34m\u001b[0m\u001b[0m\n\u001b[0m\u001b[1;32m      3\u001b[0m \u001b[0mnew_ndata\u001b[0m \u001b[0;34m=\u001b[0m \u001b[0mpd\u001b[0m\u001b[0;34m.\u001b[0m\u001b[0mDataFrame\u001b[0m\u001b[0;34m(\u001b[0m\u001b[0mindex\u001b[0m\u001b[0;34m=\u001b[0m\u001b[0mrange\u001b[0m\u001b[0;34m(\u001b[0m\u001b[0;36m0\u001b[0m\u001b[0;34m,\u001b[0m\u001b[0mlen\u001b[0m\u001b[0;34m(\u001b[0m\u001b[0mds\u001b[0m\u001b[0;34m)\u001b[0m\u001b[0;34m)\u001b[0m\u001b[0;34m,\u001b[0m\u001b[0mcolumns\u001b[0m\u001b[0;34m=\u001b[0m\u001b[0;34m[\u001b[0m\u001b[0;34m'Date'\u001b[0m\u001b[0;34m,\u001b[0m \u001b[0;34m'Close'\u001b[0m\u001b[0;34m]\u001b[0m\u001b[0;34m)\u001b[0m\u001b[0;34m\u001b[0m\u001b[0;34m\u001b[0m\u001b[0m\n\u001b[1;32m      4\u001b[0m \u001b[0;32mfor\u001b[0m \u001b[0mi\u001b[0m \u001b[0;32min\u001b[0m \u001b[0mrange\u001b[0m\u001b[0;34m(\u001b[0m\u001b[0;36m0\u001b[0m\u001b[0;34m,\u001b[0m\u001b[0mlen\u001b[0m\u001b[0;34m(\u001b[0m\u001b[0mndata\u001b[0m\u001b[0;34m)\u001b[0m\u001b[0;34m)\u001b[0m\u001b[0;34m:\u001b[0m\u001b[0;34m\u001b[0m\u001b[0;34m\u001b[0m\u001b[0m\n\u001b[1;32m      5\u001b[0m     \u001b[0mnew_ndata\u001b[0m\u001b[0;34m[\u001b[0m\u001b[0;34m'Date'\u001b[0m\u001b[0;34m]\u001b[0m\u001b[0;34m[\u001b[0m\u001b[0mi\u001b[0m\u001b[0;34m]\u001b[0m \u001b[0;34m=\u001b[0m \u001b[0mndata\u001b[0m\u001b[0;34m[\u001b[0m\u001b[0;34m'Date'\u001b[0m\u001b[0;34m]\u001b[0m\u001b[0;34m[\u001b[0m\u001b[0mi\u001b[0m\u001b[0;34m]\u001b[0m\u001b[0;34m\u001b[0m\u001b[0;34m\u001b[0m\u001b[0m\n",
      "\u001b[0;31mNameError\u001b[0m: name 'dd' is not defined"
     ]
    }
   ],
   "source": [
    "##############For prediction\n",
    "ndata = dd.sort_index(ascending=True, axis=0)\n",
    "new_ndata = pd.DataFrame(index=range(0,len(ds)),columns=['Date', 'Close'])\n",
    "for i in range(0,len(ndata)):\n",
    "    new_ndata['Date'][i] = ndata['Date'][i]\n",
    "    new_ndata['Close'][i] = ndata['Close'][i]"
   ]
  },
  {
   "cell_type": "code",
   "execution_count": 156,
   "metadata": {},
   "outputs": [],
   "source": [
    "new_data.index = new_data.Date\n",
    "new_data.drop('Date', axis=1, inplace=True)\n",
    "\n",
    "#creating train and test sets\n",
    "dataset = new_data.values\n",
    "\n",
    "train = dataset[0:987,:]\n",
    "valid = dataset[987:,:]"
   ]
  },
  {
   "cell_type": "code",
   "execution_count": 157,
   "metadata": {},
   "outputs": [
    {
     "data": {
      "text/plain": [
       "(248, 1)"
      ]
     },
     "execution_count": 157,
     "metadata": {},
     "output_type": "execute_result"
    }
   ],
   "source": [
    "valid.shape"
   ]
  },
  {
   "cell_type": "code",
   "execution_count": 158,
   "metadata": {},
   "outputs": [],
   "source": [
    "#train"
   ]
  },
  {
   "cell_type": "code",
   "execution_count": 159,
   "metadata": {},
   "outputs": [],
   "source": [
    "#############################\n",
    "new_ndata.index = new_ndata.Date\n",
    "new_ndata.drop('Date', axis=1, inplace=True)\n",
    "\n",
    "#creating train and test sets\n",
    "ndataset = new_ndata.values\n",
    "\n",
    "ntrain = dataset[0:500,:]\n",
    "nvalid = dataset[500:,:]"
   ]
  },
  {
   "cell_type": "code",
   "execution_count": 160,
   "metadata": {},
   "outputs": [
    {
     "data": {
      "text/plain": [
       "(500, 1)"
      ]
     },
     "execution_count": 160,
     "metadata": {},
     "output_type": "execute_result"
    }
   ],
   "source": [
    "ntrain.shape"
   ]
  },
  {
   "cell_type": "code",
   "execution_count": 161,
   "metadata": {},
   "outputs": [],
   "source": [
    "caler = MinMaxScaler(feature_range=(0, 1))\n",
    "scaled_data = scaler.fit_transform(dataset)\n",
    "\n",
    "x_train, y_train = [], []\n",
    "for i in range(60,len(train)):\n",
    "    x_train.append(scaled_data[i-60:i,0])\n",
    "    y_train.append(scaled_data[i,0])\n",
    "x_train, y_train = np.array(x_train), np.array(y_train)\n",
    "\n",
    "x_train = np.reshape(x_train, (x_train.shape[0],x_train.shape[1],1))"
   ]
  },
  {
   "cell_type": "code",
   "execution_count": 162,
   "metadata": {},
   "outputs": [
    {
     "data": {
      "text/plain": [
       "(440,)"
      ]
     },
     "execution_count": 162,
     "metadata": {},
     "output_type": "execute_result"
    }
   ],
   "source": [
    "#train\n",
    "ndataset.shape\n",
    "y_pred.shape"
   ]
  },
  {
   "cell_type": "code",
   "execution_count": 163,
   "metadata": {},
   "outputs": [],
   "source": [
    "###################\n",
    "caler = MinMaxScaler(feature_range=(0, 1))\n",
    "nscaled_data = scaler.fit_transform(ndataset)\n",
    "\n",
    "x_pred, y_pred = [], []\n",
    "for i in range(60,len(ntrain)):\n",
    "    x_pred.append(nscaled_data[i-60:i,0])\n",
    "    y_pred.append(nscaled_data[i,0])\n",
    "x_pred, y_pred = np.array(x_pred), np.array(y_pred)\n",
    "\n",
    "x_pred = np.reshape(x_pred, (x_pred.shape[0],x_pred.shape[1],1))"
   ]
  },
  {
   "cell_type": "code",
   "execution_count": 164,
   "metadata": {},
   "outputs": [
    {
     "data": {
      "text/plain": [
       "(440, 60, 1)"
      ]
     },
     "execution_count": 164,
     "metadata": {},
     "output_type": "execute_result"
    }
   ],
   "source": [
    "X_test.shape\n",
    "x_pred.shape"
   ]
  },
  {
   "cell_type": "code",
   "execution_count": 165,
   "metadata": {},
   "outputs": [
    {
     "name": "stdout",
     "output_type": "stream",
     "text": [
      "Epoch 1/1\n",
      " - 22s - loss: 0.0040\n"
     ]
    },
    {
     "data": {
      "text/plain": [
       "<keras.callbacks.callbacks.History at 0x7f394ff681d0>"
      ]
     },
     "execution_count": 165,
     "metadata": {},
     "output_type": "execute_result"
    }
   ],
   "source": [
    "model = Sequential()\n",
    "model.add(LSTM(units=50, return_sequences=True, input_shape=(x_train.shape[1],1)))\n",
    "model.add(LSTM(units=50))\n",
    "model.add(Dense(1))\n",
    "\n",
    "model.compile(loss='mean_squared_error', optimizer='adam')\n",
    "model.fit(x_train, y_train, epochs=1, batch_size=1, verbose=2)"
   ]
  },
  {
   "cell_type": "code",
   "execution_count": 166,
   "metadata": {},
   "outputs": [],
   "source": [
    "inputs = new_data[len(new_data) - len(valid) - 60:].values\n",
    "inputs = inputs.reshape(-1,1)\n",
    "inputs  = scaler.transform(inputs)\n",
    "\n",
    "X_test = []\n",
    "for i in range(60,inputs.shape[0]):\n",
    "    X_test.append(inputs[i-60:i,0])\n",
    "X_test = np.array(X_test)\n",
    "X_test = np.reshape(X_test, (X_test.shape[0],X_test.shape[1],1))\n",
    "closing_price = model.predict(X_test)\n",
    "closing_price = scaler.inverse_transform(closing_price)"
   ]
  },
  {
   "cell_type": "code",
   "execution_count": 167,
   "metadata": {},
   "outputs": [
    {
     "data": {
      "text/plain": [
       "(248, 60, 1)"
      ]
     },
     "execution_count": 167,
     "metadata": {},
     "output_type": "execute_result"
    }
   ],
   "source": [
    "X_test.shape"
   ]
  },
  {
   "cell_type": "code",
   "execution_count": 168,
   "metadata": {},
   "outputs": [
    {
     "data": {
      "text/plain": [
       "(248, 60, 1)"
      ]
     },
     "execution_count": 168,
     "metadata": {},
     "output_type": "execute_result"
    }
   ],
   "source": [
    "X_test.shape"
   ]
  },
  {
   "cell_type": "code",
   "execution_count": 122,
   "metadata": {},
   "outputs": [
    {
     "data": {
      "text/plain": [
       "84.72702305404468"
      ]
     },
     "execution_count": 122,
     "metadata": {},
     "output_type": "execute_result"
    }
   ],
   "source": [
    "rms=np.sqrt(np.mean(np.power((valid-closing_price),2)))\n",
    "rms"
   ]
  },
  {
   "cell_type": "code",
   "execution_count": 123,
   "metadata": {},
   "outputs": [
    {
     "name": "stderr",
     "output_type": "stream",
     "text": [
      "/home/vanshika/MLAI/lib/python3.7/site-packages/ipykernel_launcher.py:4: SettingWithCopyWarning: \n",
      "A value is trying to be set on a copy of a slice from a DataFrame.\n",
      "Try using .loc[row_indexer,col_indexer] = value instead\n",
      "\n",
      "See the caveats in the documentation: http://pandas.pydata.org/pandas-docs/stable/user_guide/indexing.html#returning-a-view-versus-a-copy\n",
      "  after removing the cwd from sys.path.\n"
     ]
    },
    {
     "data": {
      "text/plain": [
       "[<matplotlib.lines.Line2D at 0x7f398826d490>,\n",
       " <matplotlib.lines.Line2D at 0x7f395223f990>]"
      ]
     },
     "execution_count": 123,
     "metadata": {},
     "output_type": "execute_result"
    },
    {
     "data": {
      "image/png": "[encoded data removed]",
      "text/plain": [
       "<Figure size 1440x720 with 1 Axes>"
      ]
     },
     "metadata": {
      "needs_background": "light"
     },
     "output_type": "display_data"
    }
   ],
   "source": [
    "#for plotting\n",
    "train = new_data[:987]\n",
    "valid = new_data[987:]\n",
    "valid['Predictions'] = closing_price\n",
    "plt.plot(train['Close'])\n",
    "plt.plot(valid[['Close','Predictions']])"
   ]
  },
  {
   "cell_type": "code",
   "execution_count": 82,
   "metadata": {},
   "outputs": [],
   "source": [
    "#train"
   ]
  },
  {
   "cell_type": "code",
   "execution_count": 81,
   "metadata": {},
   "outputs": [],
   "source": [
    "#train"
   ]
  },
  {
   "cell_type": "code",
   "execution_count": 147,
   "metadata": {},
   "outputs": [],
   "source": [
    "close_price = model.predict(x_pred)\n",
    "close_price = scaler.inverse_transform(close_price)"
   ]
  },
  {
   "cell_type": "code",
   "execution_count": 151,
   "metadata": {},
   "outputs": [
    {
     "data": {
      "text/plain": [
       "array([[46.5029  ],\n",
       "       [46.27145 ],\n",
       "       [46.017834],\n",
       "       [45.640102],\n",
       "       [45.135254],\n",
       "       [44.78979 ],\n",
       "       [44.443867],\n",
       "       [44.127914],\n",
       "       [43.877224],\n",
       "       [43.572582],\n",
       "       [43.31212 ],\n",
       "       [43.120922],\n",
       "       [43.0145  ],\n",
       "       [42.8429  ],\n",
       "       [42.638233],\n",
       "       [42.528313],\n",
       "       [42.502537],\n",
       "       [42.61118 ],\n",
       "       [42.695408],\n",
       "       [42.80313 ],\n",
       "       [42.963634],\n",
       "       [43.277332],\n",
       "       [43.676907],\n",
       "       [44.09214 ],\n",
       "       [44.398056],\n",
       "       [44.568363],\n",
       "       [44.626625],\n",
       "       [44.32612 ],\n",
       "       [43.83274 ],\n",
       "       [43.24298 ],\n",
       "       [42.65446 ],\n",
       "       [42.039913],\n",
       "       [41.53539 ],\n",
       "       [41.17762 ],\n",
       "       [40.90475 ],\n",
       "       [40.74471 ],\n",
       "       [40.67549 ],\n",
       "       [40.696007],\n",
       "       [40.73223 ],\n",
       "       [40.79363 ],\n",
       "       [40.823875],\n",
       "       [40.87194 ],\n",
       "       [40.928955],\n",
       "       [40.975143],\n",
       "       [41.00827 ],\n",
       "       [40.966423],\n",
       "       [40.926994],\n",
       "       [40.858215],\n",
       "       [40.80115 ],\n",
       "       [40.70288 ],\n",
       "       [40.635635],\n",
       "       [40.57188 ],\n",
       "       [40.594555],\n",
       "       [40.7466  ],\n",
       "       [41.068596],\n",
       "       [41.43236 ],\n",
       "       [41.848583],\n",
       "       [42.228584],\n",
       "       [42.579388],\n",
       "       [42.873024],\n",
       "       [42.964787],\n",
       "       [42.908607],\n",
       "       [42.766747],\n",
       "       [42.58846 ],\n",
       "       [42.4473  ],\n",
       "       [42.345226],\n",
       "       [42.114574],\n",
       "       [41.861195],\n",
       "       [41.495148],\n",
       "       [41.10947 ],\n",
       "       [40.654022],\n",
       "       [40.193108],\n",
       "       [39.789696],\n",
       "       [39.505096],\n",
       "       [39.304688],\n",
       "       [39.218212],\n",
       "       [39.243603],\n",
       "       [39.38948 ],\n",
       "       [39.477074],\n",
       "       [39.52656 ],\n",
       "       [39.62198 ],\n",
       "       [39.735687],\n",
       "       [39.863106],\n",
       "       [39.994812],\n",
       "       [40.132935],\n",
       "       [39.78335 ],\n",
       "       [39.254204],\n",
       "       [38.626743],\n",
       "       [37.976036],\n",
       "       [37.42025 ],\n",
       "       [37.028233],\n",
       "       [36.683853],\n",
       "       [36.38723 ],\n",
       "       [36.120552],\n",
       "       [35.855663],\n",
       "       [35.6352  ],\n",
       "       [35.510376],\n",
       "       [35.485504],\n",
       "       [35.492188],\n",
       "       [35.524986],\n",
       "       [35.60553 ],\n",
       "       [35.696407],\n",
       "       [35.760925],\n",
       "       [35.867413],\n",
       "       [35.920383],\n",
       "       [35.93225 ],\n",
       "       [35.948986],\n",
       "       [35.965977],\n",
       "       [36.040974],\n",
       "       [36.15707 ],\n",
       "       [36.248466],\n",
       "       [36.335243],\n",
       "       [36.41623 ],\n",
       "       [36.504868],\n",
       "       [36.61058 ],\n",
       "       [36.69885 ],\n",
       "       [36.747597],\n",
       "       [36.79391 ],\n",
       "       [36.75323 ],\n",
       "       [36.61797 ],\n",
       "       [36.486053],\n",
       "       [36.332146],\n",
       "       [36.22951 ],\n",
       "       [36.178883],\n",
       "       [36.181614],\n",
       "       [36.17235 ],\n",
       "       [36.17198 ],\n",
       "       [36.16663 ],\n",
       "       [36.17159 ],\n",
       "       [36.18352 ],\n",
       "       [36.174644],\n",
       "       [36.119137],\n",
       "       [35.933006],\n",
       "       [35.795795],\n",
       "       [35.663685],\n",
       "       [35.51106 ],\n",
       "       [35.30454 ],\n",
       "       [35.09716 ],\n",
       "       [34.929962],\n",
       "       [34.785194],\n",
       "       [34.622456],\n",
       "       [34.506516],\n",
       "       [34.50482 ],\n",
       "       [34.37855 ],\n",
       "       [34.17551 ],\n",
       "       [33.98718 ],\n",
       "       [33.83794 ],\n",
       "       [33.766914],\n",
       "       [33.717575],\n",
       "       [33.63354 ],\n",
       "       [33.22804 ],\n",
       "       [32.67372 ],\n",
       "       [32.058823],\n",
       "       [31.3728  ],\n",
       "       [30.796318],\n",
       "       [30.253092],\n",
       "       [29.72696 ],\n",
       "       [29.320358],\n",
       "       [29.17624 ],\n",
       "       [29.237411],\n",
       "       [29.44442 ],\n",
       "       [29.69254 ],\n",
       "       [29.975706],\n",
       "       [30.244532],\n",
       "       [30.480194],\n",
       "       [30.654522],\n",
       "       [30.708881],\n",
       "       [30.603014],\n",
       "       [30.398712],\n",
       "       [30.187714],\n",
       "       [29.985065],\n",
       "       [29.78823 ],\n",
       "       [29.632717],\n",
       "       [29.531517],\n",
       "       [29.479137],\n",
       "       [29.495193],\n",
       "       [29.541279],\n",
       "       [29.70523 ],\n",
       "       [29.894274],\n",
       "       [30.11595 ],\n",
       "       [30.372574],\n",
       "       [30.526602],\n",
       "       [30.634449],\n",
       "       [30.663012],\n",
       "       [30.637592],\n",
       "       [30.591772],\n",
       "       [30.537056],\n",
       "       [30.479883],\n",
       "       [30.414755],\n",
       "       [30.30632 ],\n",
       "       [30.186964],\n",
       "       [30.05132 ],\n",
       "       [29.887312],\n",
       "       [29.578676],\n",
       "       [29.178213],\n",
       "       [28.935703],\n",
       "       [28.815563],\n",
       "       [28.794888],\n",
       "       [28.814543],\n",
       "       [28.934313],\n",
       "       [29.045443],\n",
       "       [29.209303],\n",
       "       [29.438747],\n",
       "       [29.739025],\n",
       "       [30.082397],\n",
       "       [30.448956],\n",
       "       [30.778849],\n",
       "       [31.038015],\n",
       "       [31.284126],\n",
       "       [31.458323],\n",
       "       [31.587397],\n",
       "       [31.745914],\n",
       "       [32.110287],\n",
       "       [32.518837],\n",
       "       [32.921227],\n",
       "       [33.403492],\n",
       "       [33.91631 ],\n",
       "       [34.36065 ],\n",
       "       [34.772526],\n",
       "       [35.076283],\n",
       "       [35.3707  ],\n",
       "       [35.714336],\n",
       "       [36.08107 ],\n",
       "       [36.44207 ],\n",
       "       [36.737595],\n",
       "       [36.971775],\n",
       "       [37.189056],\n",
       "       [37.445457],\n",
       "       [37.70259 ],\n",
       "       [37.942314],\n",
       "       [38.180588],\n",
       "       [38.45023 ],\n",
       "       [38.669598],\n",
       "       [38.872425],\n",
       "       [39.107   ],\n",
       "       [39.31341 ],\n",
       "       [39.490856],\n",
       "       [39.659584],\n",
       "       [39.752125],\n",
       "       [39.822784],\n",
       "       [39.86    ],\n",
       "       [39.859905],\n",
       "       [39.802044],\n",
       "       [39.64684 ],\n",
       "       [39.419727],\n",
       "       [39.222153],\n",
       "       [39.059032],\n",
       "       [38.95174 ],\n",
       "       [38.87006 ],\n",
       "       [38.805424],\n",
       "       [38.75347 ],\n",
       "       [38.787266],\n",
       "       [38.838963],\n",
       "       [38.958817],\n",
       "       [39.033302],\n",
       "       [39.090054],\n",
       "       [39.153355],\n",
       "       [39.20403 ],\n",
       "       [39.237534],\n",
       "       [39.303085],\n",
       "       [39.442795],\n",
       "       [39.63433 ],\n",
       "       [39.84263 ],\n",
       "       [40.047234],\n",
       "       [40.20379 ],\n",
       "       [40.317413],\n",
       "       [40.38933 ],\n",
       "       [40.428104],\n",
       "       [40.270714],\n",
       "       [40.017372],\n",
       "       [39.744373],\n",
       "       [39.50491 ],\n",
       "       [39.252586],\n",
       "       [39.022488],\n",
       "       [38.84692 ],\n",
       "       [38.779633],\n",
       "       [38.999016],\n",
       "       [39.289276],\n",
       "       [39.627   ],\n",
       "       [39.94406 ],\n",
       "       [40.28339 ],\n",
       "       [40.479977],\n",
       "       [40.563057],\n",
       "       [40.664066],\n",
       "       [40.70748 ],\n",
       "       [40.693916],\n",
       "       [40.634655],\n",
       "       [40.566986],\n",
       "       [40.46987 ],\n",
       "       [40.180237],\n",
       "       [39.94485 ],\n",
       "       [39.78048 ],\n",
       "       [39.695976],\n",
       "       [39.6153  ],\n",
       "       [39.50662 ],\n",
       "       [39.399258],\n",
       "       [39.26972 ],\n",
       "       [39.099144],\n",
       "       [38.948135],\n",
       "       [38.83143 ],\n",
       "       [38.729176],\n",
       "       [38.680035],\n",
       "       [38.60748 ],\n",
       "       [38.49585 ],\n",
       "       [38.48831 ],\n",
       "       [38.532646],\n",
       "       [38.63187 ],\n",
       "       [38.835384],\n",
       "       [39.145847],\n",
       "       [39.49449 ],\n",
       "       [39.928078],\n",
       "       [40.357834],\n",
       "       [40.733658],\n",
       "       [41.05726 ],\n",
       "       [41.40253 ],\n",
       "       [41.776863],\n",
       "       [42.099125],\n",
       "       [42.37996 ],\n",
       "       [42.565895],\n",
       "       [42.597717],\n",
       "       [42.572777],\n",
       "       [42.52766 ],\n",
       "       [42.500427],\n",
       "       [42.53165 ],\n",
       "       [42.610653],\n",
       "       [42.682858],\n",
       "       [42.733894],\n",
       "       [42.736767],\n",
       "       [42.76704 ],\n",
       "       [42.813328],\n",
       "       [42.810966],\n",
       "       [42.845753],\n",
       "       [42.918526],\n",
       "       [42.95803 ],\n",
       "       [42.866844],\n",
       "       [42.81835 ],\n",
       "       [42.844334],\n",
       "       [42.96125 ],\n",
       "       [43.156788],\n",
       "       [43.372383],\n",
       "       [43.550457],\n",
       "       [43.747417],\n",
       "       [43.973907],\n",
       "       [44.165993],\n",
       "       [44.298733],\n",
       "       [44.37708 ],\n",
       "       [44.35248 ],\n",
       "       [44.053596],\n",
       "       [43.77086 ],\n",
       "       [43.515366],\n",
       "       [43.49267 ],\n",
       "       [43.459354],\n",
       "       [43.36296 ],\n",
       "       [43.407116],\n",
       "       [43.33764 ],\n",
       "       [43.204765],\n",
       "       [43.126892],\n",
       "       [43.126163],\n",
       "       [43.117306],\n",
       "       [43.154118],\n",
       "       [43.159958],\n",
       "       [42.98787 ],\n",
       "       [42.841072],\n",
       "       [42.662518],\n",
       "       [42.626522],\n",
       "       [42.714   ],\n",
       "       [42.825043],\n",
       "       [42.871853],\n",
       "       [42.873585],\n",
       "       [42.999203],\n",
       "       [43.1117  ],\n",
       "       [43.342323],\n",
       "       [43.45901 ],\n",
       "       [43.46911 ],\n",
       "       [43.474648],\n",
       "       [43.48213 ],\n",
       "       [43.479565],\n",
       "       [43.50166 ],\n",
       "       [43.51024 ],\n",
       "       [43.517685],\n",
       "       [43.5181  ],\n",
       "       [43.49974 ],\n",
       "       [43.38764 ],\n",
       "       [43.20317 ],\n",
       "       [42.960308],\n",
       "       [42.642944],\n",
       "       [42.399483],\n",
       "       [42.156017],\n",
       "       [41.894524],\n",
       "       [41.625233],\n",
       "       [41.425503],\n",
       "       [41.217365],\n",
       "       [40.96806 ],\n",
       "       [40.792454],\n",
       "       [40.678146],\n",
       "       [40.68496 ],\n",
       "       [40.727715],\n",
       "       [40.853695],\n",
       "       [41.01347 ],\n",
       "       [41.197998],\n",
       "       [41.343307],\n",
       "       [41.51169 ],\n",
       "       [41.63162 ],\n",
       "       [41.749733],\n",
       "       [41.40102 ],\n",
       "       [40.90182 ],\n",
       "       [40.37817 ],\n",
       "       [39.909622],\n",
       "       [39.481777],\n",
       "       [39.04415 ],\n",
       "       [38.64913 ],\n",
       "       [38.334267],\n",
       "       [38.10015 ],\n",
       "       [37.9347  ],\n",
       "       [37.749683],\n",
       "       [37.607853],\n",
       "       [37.514717],\n",
       "       [37.435196],\n",
       "       [37.32137 ],\n",
       "       [37.24186 ],\n",
       "       [37.22324 ],\n",
       "       [37.217266],\n",
       "       [37.215786],\n",
       "       [37.19364 ],\n",
       "       [37.173588],\n",
       "       [37.17742 ],\n",
       "       [37.279705],\n",
       "       [37.408833],\n",
       "       [37.55369 ],\n",
       "       [37.65331 ],\n",
       "       [37.646873],\n",
       "       [37.57001 ],\n",
       "       [37.489113],\n",
       "       [37.389626],\n",
       "       [37.29879 ],\n",
       "       [37.185646],\n",
       "       [37.09103 ],\n",
       "       [37.037865],\n",
       "       [37.057198],\n",
       "       [37.131855]], dtype=float32)"
      ]
     },
     "execution_count": 151,
     "metadata": {},
     "output_type": "execute_result"
    }
   ],
   "source": [
    "close_price"
   ]
  },
  {
   "cell_type": "code",
   "execution_count": 149,
   "metadata": {},
   "outputs": [
    {
     "data": {
      "text/plain": [
       "(440, 2)"
      ]
     },
     "execution_count": 149,
     "metadata": {},
     "output_type": "execute_result"
    }
   ],
   "source": [
    "ptrain.shape"
   ]
  },
  {
   "cell_type": "code",
   "execution_count": 150,
   "metadata": {},
   "outputs": [
    {
     "name": "stderr",
     "output_type": "stream",
     "text": [
      "/home/vanshika/MLAI/lib/python3.7/site-packages/ipykernel_launcher.py:3: SettingWithCopyWarning: \n",
      "A value is trying to be set on a copy of a slice from a DataFrame.\n",
      "Try using .loc[row_indexer,col_indexer] = value instead\n",
      "\n",
      "See the caveats in the documentation: http://pandas.pydata.org/pandas-docs/stable/user_guide/indexing.html#returning-a-view-versus-a-copy\n",
      "  This is separate from the ipykernel package so we can avoid doing imports until\n"
     ]
    },
    {
     "data": {
      "text/plain": [
       "[<matplotlib.lines.Line2D at 0x7f3950d324d0>]"
      ]
     },
     "execution_count": 150,
     "metadata": {},
     "output_type": "execute_result"
    },
    {
     "data": {
      "image/png": "[encoded data removed]",
      "text/plain": [
       "<Figure size 1440x720 with 1 Axes>"
      ]
     },
     "metadata": {
      "needs_background": "light"
     },
     "output_type": "display_data"
    }
   ],
   "source": [
    "ptrain = new_ndata[:440]\n",
    "#valid = new_data[987:]\n",
    "ptrain['Predictions'] = close_price\n",
    "plt.plot(ptrain['Close'])\n",
    "#plt.plot(valid[['Close','Predictions']])"
   ]
  },
  {
   "cell_type": "code",
   "execution_count": 129,
   "metadata": {},
   "outputs": [
    {
     "data": {
      "text/plain": [
       "(504, 1)"
      ]
     },
     "execution_count": 129,
     "metadata": {},
     "output_type": "execute_result"
    }
   ],
   "source": [
    "ptrain.shape"
   ]
  },
  {
   "cell_type": "code",
   "execution_count": null,
   "metadata": {},
   "outputs": [],
   "source": []
  }
 ],
 "metadata": {
  "kernelspec": {
   "display_name": "Python 3",
   "language": "python",
   "name": "python3"
  },
  "language_info": {
   "codemirror_mode": {
    "name": "ipython",
    "version": 3
   },
   "file_extension": ".py",
   "mimetype": "text/x-python",
   "name": "python",
   "nbconvert_exporter": "python",
   "pygments_lexer": "ipython3",
   "version": "3.7.5"
  }
 },
 "nbformat": 4,
 "nbformat_minor": 2
}
